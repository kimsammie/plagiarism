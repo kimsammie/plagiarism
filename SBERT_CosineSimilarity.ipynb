{
 "cells": [
  {
   "cell_type": "code",
   "execution_count": null,
   "metadata": {
    "colab": {
     "base_uri": "https://localhost:8080/"
    },
    "id": "TCZaQ1WVeyTm",
    "outputId": "a449b186-7bda-4160-d9b6-c25a2611d9b0"
   },
   "outputs": [
    {
     "name": "stdout",
     "output_type": "stream",
     "text": [
      "Requirement already satisfied: python-docx in /usr/local/lib/python3.7/dist-packages (0.8.11)\n",
      "Requirement already satisfied: lxml>=2.3.2 in /usr/local/lib/python3.7/dist-packages (from python-docx) (4.2.6)\n",
      "Requirement already satisfied: nltk in /usr/local/lib/python3.7/dist-packages (3.2.5)\n",
      "Requirement already satisfied: six in /usr/local/lib/python3.7/dist-packages (from nltk) (1.15.0)\n"
     ]
    }
   ],
   "source": [
    "!pip install python-docx\n",
    "!pip install nltk"
   ]
  },
  {
   "cell_type": "code",
   "execution_count": 2,
   "metadata": {
    "id": "TIjLDz-ZevDA"
   },
   "outputs": [],
   "source": [
    "import docx\n",
    "import nltk\n",
    "nltk.download('punkt')\n",
    "from nltk.tokenize import word_tokenize\n",
    "from nltk.tokenize import sent_tokenize\n",
    "import os\n",
    "import pickle\n",
    "import numpy as np\n",
    "import matplotlib.pyplot as plt\n",
    "import itertools\n",
    "import csv\n",
    "import pandas as pd"
   ]
  },
  {
   "cell_type": "code",
   "execution_count": 3,
   "metadata": {
    "id": "qQ9LS-XVF6M_"
   },
   "outputs": [],
   "source": [
    "# open\n",
    "whitepaper_dict = pickle.load(open('/content/drive/MyDrive/Plagiarism/Whitepapers_txt/whitepaper_dict.pkl', 'rb'))"
   ]
  },
  {
   "cell_type": "code",
   "execution_count": null,
   "metadata": {},
   "outputs": [],
   "source": [
    "!pip install -U sentence-transformers"
   ]
  },
  {
   "cell_type": "code",
   "execution_count": null,
   "metadata": {},
   "outputs": [],
   "source": [
    "!pip install utils"
   ]
  },
  {
   "cell_type": "markdown",
   "metadata": {
    "id": "odfaeqqNANkT"
   },
   "source": [
    "## Data Cleanup"
   ]
  },
  {
   "cell_type": "markdown",
   "metadata": {
    "id": "YlXXQb3KHbH2"
   },
   "source": [
    "#### Remove Short Sentences (sentence with less than 5 tokens) and repeated symbols, spaces\n",
    "\n"
   ]
  },
  {
   "cell_type": "code",
   "execution_count": null,
   "metadata": {
    "id": "DUwq7nLiHbUB"
   },
   "outputs": [],
   "source": [
    "whitepaper_dict_cleaned = {}\n",
    "counter = 0\n",
    "for key, value in whitepaper_dict.items():\n",
    "\n",
    "    document_cleaned = []\n",
    "    for sentence in value[1]:\n",
    "        sentence = sentence.replace(\"::\", \"\")\n",
    "        sentence = sentence.replace(\"--\", \"\")\n",
    "        sentence = sentence.replace(\"- \", \"\")\n",
    "        sentence = sentence.replace(\"  \", \"\")\n",
    "        \n",
    "        if len(word_tokenize(sentence)) > 5:\n",
    "          document_cleaned.append(sentence)\n",
    "\n",
    "    whitepaper_dict_cleaned[key] = document_cleaned"
   ]
  },
  {
   "cell_type": "code",
   "execution_count": null,
   "metadata": {
    "id": "gdVeSH1lhCYm"
   },
   "outputs": [],
   "source": [
    "#save\n",
    "pickle.dump(whitepaper_dict_cleaned, open('/content/drive/MyDrive/Plagiarism/Whitepapers_txt/whitepaper_dict_cleaned.pkl', 'wb'))"
   ]
  },
  {
   "cell_type": "code",
   "execution_count": 6,
   "metadata": {
    "id": "SZaZTGmIhCfw"
   },
   "outputs": [],
   "source": [
    "#read\n",
    "whitepaper_dict_cleaned = pickle.load(open('/content/drive/MyDrive/Plagiarism/Whitepapers_txt/whitepaper_dict_cleaned.pkl', 'rb'))"
   ]
  },
  {
   "cell_type": "code",
   "execution_count": null,
   "metadata": {
    "colab": {
     "base_uri": "https://localhost:8080/"
    },
    "id": "5PbRB0xrmDlN",
    "outputId": "ab31ef40-4577-4289-a1db-15d867258812"
   },
   "outputs": [
    {
     "data": {
      "text/plain": [
       "342"
      ]
     },
     "execution_count": 9,
     "metadata": {
      "tags": []
     },
     "output_type": "execute_result"
    }
   ],
   "source": [
    "len(whitepaper_dict_cleaned.keys())\n"
   ]
  },
  {
   "cell_type": "markdown",
   "metadata": {
    "id": "E5JBChoRHeen"
   },
   "source": [
    "## SBERT Model and Cosine Similarity"
   ]
  },
  {
   "cell_type": "markdown",
   "metadata": {
    "id": "XZL6S9dIxNpo"
   },
   "source": [
    "#### Embeddings for all documents using whitepaper clean dict"
   ]
  },
  {
   "cell_type": "code",
   "execution_count": null,
   "metadata": {
    "id": "s_FfpZ9SxN2E"
   },
   "outputs": [],
   "source": [
    "from sentence_transformers import SentenceTransformer, util\n",
    "\n",
    "def sentence_embeddings(sentence):\n",
    "  embedder = SentenceTransformer('paraphrase-distilroberta-base-v2')\n",
    "  return embedder.encode(sentence, convert_to_tensor=True)\n"
   ]
  },
  {
   "cell_type": "code",
   "execution_count": null,
   "metadata": {
    "id": "n8kZfRVRx55Q"
   },
   "outputs": [],
   "source": [
    "sentence_embeddings_dict = {} \n",
    "\n",
    "for key, value in whitepaper_dict_cleaned.items():\n",
    "\n",
    "  output = sentence_embeddings(value)\n",
    "  sentence_embeddings_dict[key] = output\n"
   ]
  },
  {
   "cell_type": "code",
   "execution_count": null,
   "metadata": {
    "id": "IyjtvmDjWmkn"
   },
   "outputs": [],
   "source": [
    "#save\n",
    "pickle.dump(sentence_embeddings_dict, open('/content/drive/MyDrive/Plagiarism/Whitepapers_txt/sentence_embeddings_dict_updated.pkl', 'wb'))"
   ]
  },
  {
   "cell_type": "code",
   "execution_count": 7,
   "metadata": {
    "id": "MgDfdc7RWmov"
   },
   "outputs": [],
   "source": [
    "#read\n",
    "sentence_embeddings_dict_updated = pickle.load(open('/content/drive/MyDrive/Plagiarism/Whitepapers_txt/sentence_embeddings_dict_updated.pkl', 'rb'))"
   ]
  },
  {
   "cell_type": "code",
   "execution_count": null,
   "metadata": {
    "id": "LpZuJkigHe02"
   },
   "outputs": [],
   "source": [
    "from sentence_transformers import SentenceTransformer, util\n",
    "import torch\n",
    "import numpy as np\n",
    "import time\n",
    "import pandas as pd\n",
    "\n",
    "\n",
    "def main(sentences_file_name, sentences_file, queries_file_name, queries_file, threshold=0.8, exact_match=True):\n",
    "\n",
    "  start = time.time()\n",
    "\n",
    "  corpus = sentences_file\n",
    "  queries = queries_file\n",
    "\n",
    "  corpus_embeddings = sentence_embeddings_dict_20[sentences_file_name]\n",
    "  query_embeddings = sentence_embeddings_dict_20[queries_file_name]\n",
    "\n",
    "  # Find the closest 5 sentences of the corpus for each query sentence based on cosine similarity\n",
    "  n = 10 \n",
    "  top_k = 5\n",
    "\n",
    "  data = []\n",
    "  counter = 0\n",
    "  for query in queries:\n",
    "\n",
    "    top_k_list = get_query_top_k(query,query_embeddings[counter, :], corpus, corpus_embeddings, max_n = n, top_k = top_k, min_p=threshold)\n",
    "    data.extend(top_k_list)\n",
    "    counter += 1\n",
    "\n",
    "  df = pd.DataFrame(data)\n",
    "  end = time.time()\n",
    "  e = int(end - start)\n",
    "  # print(end-start)\n",
    "  # print('Time elapsed is: {:02d}:{:02d}:{:02d}'.format(e // 3600, (e % 3600 // 60), e % 60))\n",
    "\n",
    "  return df\n"
   ]
  },
  {
   "cell_type": "code",
   "execution_count": null,
   "metadata": {
    "colab": {
     "base_uri": "https://localhost:8080/"
    },
    "id": "2UBjYYwY4f4a",
    "outputId": "67190985-0eeb-4370-dd14-f6a709633b90"
   },
   "outputs": [
    {
     "data": {
      "text/plain": [
       "342"
      ]
     },
     "execution_count": 26,
     "metadata": {
      "tags": []
     },
     "output_type": "execute_result"
    }
   ],
   "source": [
    "len(sentence_embeddings_dict_updated.keys())"
   ]
  },
  {
   "cell_type": "code",
   "execution_count": null,
   "metadata": {
    "id": "hp6QmZUiC-2i"
   },
   "outputs": [],
   "source": [
    "from sentence_transformers import util\n",
    "import torch\n",
    "import pandas as pandas\n",
    "\n",
    "def similarity(query_embeddings,docs_embeddings,max_n=10, top_k=5):\n",
    "\n",
    "  cos_scores = util.pytorch_cos_sim(query_embeddings, docs_embeddings)[0]\n",
    "  cos_scores = cos_scores.cpu()\n",
    "\n",
    "  top_results = torch.topk(cos_scores, k=max_n) \n",
    "\n",
    "  return zip(top_results[0], top_results[1])\n",
    "\n",
    "def get_query_top_k(query, query_embeddings, docs, docs_embeddings, max_n=10, top_k=5, min_p=0.7, exact_match=True):\n",
    "\n",
    "  count=0\n",
    "  top_k_list = []\n",
    "\n",
    "  for score, idx in similarity(query_embeddings, docs_embeddings, max_n=max_n):\n",
    "    score = score.item() #score is tensor\n",
    "    if count<top_k and ((score>min_p and exact_match) or (score<=0.99 and score>min_p)): \n",
    "      count=count+1 \n",
    "      top_k_list.append({\"query\":query,\"sentence\":docs[idx],\"score\":score}) \n",
    "  return top_k_list"
   ]
  },
  {
   "cell_type": "code",
   "execution_count": null,
   "metadata": {
    "id": "cuVU4tHiNoPz"
   },
   "outputs": [],
   "source": []
  },
  {
   "cell_type": "markdown",
   "metadata": {
    "id": "E7rKYsRmfmmb"
   },
   "source": [
    "##### W/ Threshold 0.8 & whitepaper_dict_cleaned\n",
    "\n"
   ]
  },
  {
   "cell_type": "code",
   "execution_count": null,
   "metadata": {
    "id": "xp9xQ7nNfm6e"
   },
   "outputs": [],
   "source": [
    "comparison_dict_08_cleaned_all = {}\n",
    "#sentence_embeddings_dict\n",
    "key_list = list(sentence_embeddings_dict_updated.keys())\n",
    "\n",
    "for i in range(len(key_list)-1):\n",
    "  key1 = key_list[i]\n",
    "  try:\n",
    "  # if key1 != 'Umbrella.docx': \n",
    "\n",
    "    for key2 in key_list[i+1:]:\n",
    "\n",
    "      output = main(key1, whitepaper_dict_cleaned[key1], key2, whitepaper_dict_cleaned[key2], threshold=0.8, exact_match=True)\n",
    "      comparison_dict_08_cleaned_all[key1+'@'+key2] = output\n",
    "\n",
    "  except:\n",
    "    pass"
   ]
  },
  {
   "cell_type": "code",
   "execution_count": null,
   "metadata": {
    "id": "vWDBZ1CTXX_u"
   },
   "outputs": [],
   "source": [
    "#save\n",
    "pickle.dump(comparison_dict_08_cleaned_all, open('/content/drive/MyDrive/Plagiarism/Whitepapers_txt/comparison_dict_08_cleaned_all.pkl', 'wb'))"
   ]
  },
  {
   "cell_type": "code",
   "execution_count": 8,
   "metadata": {
    "id": "9SNlGwXkXYFE"
   },
   "outputs": [],
   "source": [
    "#read\n",
    "comparison_dict_08_cleaned_all = pickle.load(open('/content/drive/MyDrive/Plagiarism/Whitepapers_txt/comparison_dict_08_cleaned_all.pkl', 'rb'))"
   ]
  },
  {
   "cell_type": "code",
   "execution_count": null,
   "metadata": {
    "id": "PcgGt3IHYe44"
   },
   "outputs": [],
   "source": []
  },
  {
   "cell_type": "code",
   "execution_count": null,
   "metadata": {
    "id": "Fe9LZYzz9YEo"
   },
   "outputs": [],
   "source": [
    "import pandas as pd\n",
    "df1 = pd.DataFrame(columns = ['key', 'query', 'source', 'score'])\n",
    "counter = 0\n",
    "for key, value in comparison_dict_08_cleaned_all.items(): \n",
    "  if len(value) > 0:\n",
    "    for i in value.values:\n",
    "      score = i[2]\n",
    "      query = i[1]\n",
    "      source = i[0]\n",
    "\n",
    "      # some_list.append([key, ])\n",
    "      df1.loc[counter, :] = [key, query, source, score]\n",
    "      counter += 1\n"
   ]
  },
  {
   "cell_type": "markdown",
   "metadata": {
    "id": "PIoZCthhSDc_"
   },
   "source": [
    "##### df with sent len > 5 and no filter"
   ]
  },
  {
   "cell_type": "code",
   "execution_count": null,
   "metadata": {
    "id": "LcsH8xo51JZH"
   },
   "outputs": [],
   "source": [
    "#save df1 in csv\n",
    "df1.to_csv('/content/drive/MyDrive/2021_Indep_Study_Plagiarism/Whitepapers_txt/SBERTcomparison_dict_08_cleaned_all.csv')  --- > I overwrote it so its been replaced with the final \n"
   ]
  },
  {
   "cell_type": "code",
   "execution_count": null,
   "metadata": {
    "colab": {
     "base_uri": "https://localhost:8080/"
    },
    "id": "uHR-YosYbbWA",
    "outputId": "a9b7d3d0-9dbb-4d24-cb42-914bb8bd7f2a"
   },
   "outputs": [
    {
     "data": {
      "text/plain": [
       "CelerNetwork-Whitepaper.docx@Celer.docx              913\n",
       "shyft-network-inc-whitepaper_v4.1.docx@Shyft.docx    301\n",
       "Origo.docx@Cortex.docx                               206\n",
       "Sport_and_Leisure.docx@AllSports.docx                192\n",
       "Tokenomy.docx@Origo.docx                             141\n",
       "                                                    ... \n",
       "PLATINCOIN.docx@Lympo.docx                             1\n",
       "Refereum.docx@LINA.docx                                1\n",
       "Elastos.docx@Fusion.docx                               1\n",
       "Elastos.docx@HTMLCOIN.docx                             1\n",
       "Karma.docx@MedicCoin.docx                              1\n",
       "Name: key, Length: 4536, dtype: int64"
      ]
     },
     "execution_count": 19,
     "metadata": {
      "tags": []
     },
     "output_type": "execute_result"
    }
   ],
   "source": [
    "#previous results -- sentence > 5 toks\n",
    "df1['key'].value_counts()"
   ]
  },
  {
   "cell_type": "code",
   "execution_count": null,
   "metadata": {},
   "outputs": [],
   "source": [
    "#read\n",
    "\n",
    "df = pd.read_csv('/content/drive/MyDrive/2021_Indep_Study_Plagiarism/Whitepapers_txt/SBERTcomparison_dict_08_cleaned_all.csv')"
   ]
  },
  {
   "cell_type": "markdown",
   "metadata": {},
   "source": [
    "##### disclaimer list extracted from the similarity matches"
   ]
  },
  {
   "cell_type": "code",
   "execution_count": 11,
   "metadata": {
    "id": "M6tknyGOsPIk"
   },
   "outputs": [],
   "source": [
    "# below list of pair matches contained nothing but legal disclaimers\n",
    "\n",
    "pair_list = ['Origo.docx@Cortex.docx',\n",
    " 'Tokenomy.docx@Origo.docx',\n",
    " 'Tokenomy.docx@Covesting.docx',\n",
    " 'ULTRAIN.docx@Celer.docx',\n",
    " 'Tokenomy.docx@Cortex.docx',\n",
    " 'Origo.docx@Covesting.docx',\n",
    " 'Swarm.docx@MediBloc.docx',\n",
    " 'UNetwork.docx@Egretia.docx',\n",
    " 'Tokenomy.docx@Levolution.docx']"
   ]
  },
  {
   "cell_type": "code",
   "execution_count": 12,
   "metadata": {
    "id": "7owFkeGKsPO6"
   },
   "outputs": [],
   "source": [
    "disclaimer_list = []\n",
    "\n",
    "for pair in pair_list:\n",
    "  disclaimer_list.extend(set(list((df[df['key'] == pair][['query', 'source']].values.flatten()))))"
   ]
  },
  {
   "cell_type": "code",
   "execution_count": 13,
   "metadata": {
    "colab": {
     "base_uri": "https://localhost:8080/"
    },
    "id": "3oLT1eGesXa_",
    "outputId": "71cc3c02-edba-4ef8-db49-2cf0c168e1f0"
   },
   "outputs": [
    {
     "data": {
      "text/plain": [
       "1059"
      ]
     },
     "execution_count": 13,
     "metadata": {
      "tags": []
     },
     "output_type": "execute_result"
    }
   ],
   "source": [
    "len(disclaimer_list)"
   ]
  },
  {
   "cell_type": "code",
   "execution_count": 15,
   "metadata": {
    "colab": {
     "base_uri": "https://localhost:8080/",
     "height": 219
    },
    "id": "ot1VTss6sw2Z",
    "outputId": "544022f0-182a-4499-d671-1ab7d35333aa"
   },
   "outputs": [
    {
     "name": "stdout",
     "output_type": "stream",
     "text": [
      "(12512, 5)\n"
     ]
    },
    {
     "data": {
      "text/html": [
       "<div>\n",
       "<style scoped>\n",
       "    .dataframe tbody tr th:only-of-type {\n",
       "        vertical-align: middle;\n",
       "    }\n",
       "\n",
       "    .dataframe tbody tr th {\n",
       "        vertical-align: top;\n",
       "    }\n",
       "\n",
       "    .dataframe thead th {\n",
       "        text-align: right;\n",
       "    }\n",
       "</style>\n",
       "<table border=\"1\" class=\"dataframe\">\n",
       "  <thead>\n",
       "    <tr style=\"text-align: right;\">\n",
       "      <th></th>\n",
       "      <th>Unnamed: 0</th>\n",
       "      <th>key</th>\n",
       "      <th>query</th>\n",
       "      <th>source</th>\n",
       "      <th>score</th>\n",
       "    </tr>\n",
       "  </thead>\n",
       "  <tbody>\n",
       "    <tr>\n",
       "      <th>0</th>\n",
       "      <td>0</td>\n",
       "      <td>ZVCHAIN.docx@Unibright.docx</td>\n",
       "      <td>the contract will eventually be written in the...</td>\n",
       "      <td>after its creation, the smart contract will be...</td>\n",
       "      <td>0.828529</td>\n",
       "    </tr>\n",
       "    <tr>\n",
       "      <th>1</th>\n",
       "      <td>1</td>\n",
       "      <td>ZVCHAIN.docx@ShipChain.docx</td>\n",
       "      <td>the contract will eventually be written in the...</td>\n",
       "      <td>that contract will be completed on delivery, w...</td>\n",
       "      <td>0.802803</td>\n",
       "    </tr>\n",
       "    <tr>\n",
       "      <th>2</th>\n",
       "      <td>2</td>\n",
       "      <td>ZVCHAIN.docx@QuarkChain.docx</td>\n",
       "      <td>we contend that in the context of the blockcha...</td>\n",
       "      <td>as aforementioned, decentralization also gives...</td>\n",
       "      <td>0.859681</td>\n",
       "    </tr>\n",
       "    <tr>\n",
       "      <th>3</th>\n",
       "      <td>3</td>\n",
       "      <td>ZVCHAIN.docx@QuarkChain.docx</td>\n",
       "      <td>privacy-preserving computing and security fram...</td>\n",
       "      <td>as aforementioned, decentralization also gives...</td>\n",
       "      <td>0.804344</td>\n",
       "    </tr>\n",
       "    <tr>\n",
       "      <th>4</th>\n",
       "      <td>4</td>\n",
       "      <td>ZVCHAIN.docx@Acala_Whitepaper.docx</td>\n",
       "      <td>regardless if it is public chain or private ch...</td>\n",
       "      <td>the significance of cross-chain communication ...</td>\n",
       "      <td>0.800443</td>\n",
       "    </tr>\n",
       "  </tbody>\n",
       "</table>\n",
       "</div>"
      ],
      "text/plain": [
       "   Unnamed: 0  ...     score\n",
       "0           0  ...  0.828529\n",
       "1           1  ...  0.802803\n",
       "2           2  ...  0.859681\n",
       "3           3  ...  0.804344\n",
       "4           4  ...  0.800443\n",
       "\n",
       "[5 rows x 5 columns]"
      ]
     },
     "execution_count": 15,
     "metadata": {
      "tags": []
     },
     "output_type": "execute_result"
    }
   ],
   "source": [
    "print(df.shape)\n",
    "df.head()"
   ]
  },
  {
   "cell_type": "markdown",
   "metadata": {},
   "source": [
    "##### remove disclaimer hits and sentence length less than 20 tokens"
   ]
  },
  {
   "cell_type": "code",
   "execution_count": 22,
   "metadata": {
    "id": "3qCiY4outyaN"
   },
   "outputs": [],
   "source": [
    "df_new = pd.DataFrame(columns = df.columns)\n",
    "i = 0\n",
    "for index, row in df.iterrows():\n",
    "  if (row['query'] in disclaimer_list) or (row['source'] in disclaimer_list) or (len(row['source'].split(' ')) < 20 ) or (len(row['query'].split(' ')) < 20 ):\n",
    "    continue\n",
    "\n",
    "  else:\n",
    "    df_new.loc[i,:] = row.values\n",
    "    i += 1\n"
   ]
  },
  {
   "cell_type": "code",
   "execution_count": 23,
   "metadata": {
    "colab": {
     "base_uri": "https://localhost:8080/"
    },
    "id": "IcZcjDs52Th7",
    "outputId": "b31d8809-a9b4-4e95-d71f-1e6d438562f9"
   },
   "outputs": [
    {
     "data": {
      "text/plain": [
       "2310"
      ]
     },
     "execution_count": 23,
     "metadata": {
      "tags": []
     },
     "output_type": "execute_result"
    }
   ],
   "source": [
    "len(df_new)"
   ]
  },
  {
   "cell_type": "markdown",
   "metadata": {},
   "source": [
    "##### remove duplicate whitepapers"
   ]
  },
  {
   "cell_type": "code",
   "execution_count": 26,
   "metadata": {
    "id": "gfqUIbpC31Pu"
   },
   "outputs": [],
   "source": [
    "df_new = df_new[df_new['key'] != 'CelerNetwork-Whitepaper.docx@Celer.docx']\n",
    "df_new = df_new[df_new['key'] != 'shyft-network-inc-whitepaper_v4.1.docx@Shyft.docx']"
   ]
  },
  {
   "cell_type": "code",
   "execution_count": 27,
   "metadata": {
    "colab": {
     "base_uri": "https://localhost:8080/"
    },
    "id": "rzgbP90B3c6v",
    "outputId": "23808b7d-0844-4242-803e-aa1da181eac3"
   },
   "outputs": [
    {
     "data": {
      "text/plain": [
       "Sport_and_Leisure.docx@AllSports.docx    124\n",
       "PRIZM.docx@Nxt.docx                       81\n",
       "Levolution.docx@INS.docx                  17\n",
       "RealTract.docx@Constellation.docx         15\n",
       "MakerDAO.docx@Dai.docx                    15\n",
       "                                        ... \n",
       "AcuteAngleCould.docx@MediBloc.docx         1\n",
       "Litex.docx@Alphacat.docx                   1\n",
       "Primas.docx@Dimecoin.docx                  1\n",
       "StakeNet.docx@QASH.docx                    1\n",
       "QuarkChain.docx@Eximchain.docx             1\n",
       "Name: key, Length: 1016, dtype: int64"
      ]
     },
     "execution_count": 27,
     "metadata": {
      "tags": []
     },
     "output_type": "execute_result"
    }
   ],
   "source": [
    "df_new['key'].value_counts()"
   ]
  },
  {
   "cell_type": "code",
   "execution_count": 29,
   "metadata": {
    "id": "glPWe2Np3VSS"
   },
   "outputs": [],
   "source": [
    "df_new.to_csv('/content/drive/MyDrive/2021_Indep_Study_Plagiarism/Whitepapers_txt/SBERTcomparison_dict_final.csv')"
   ]
  },
  {
   "cell_type": "code",
   "execution_count": null,
   "metadata": {
    "id": "kjHT0goNuUAz"
   },
   "outputs": [],
   "source": []
  }
 ],
 "metadata": {
  "colab": {
   "collapsed_sections": [
    "bDz8iydroiTU",
    "58cef5g9xHes",
    "k7x2rkM1faZ-",
    "N2pWWD8qFXcp",
    "esrLd8lTFffY"
   ],
   "name": "Plagiarism_SBERT.ipynb",
   "provenance": []
  },
  "kernelspec": {
   "display_name": "Python 3",
   "language": "python",
   "name": "python3"
  },
  "language_info": {
   "codemirror_mode": {
    "name": "ipython",
    "version": 3
   },
   "file_extension": ".py",
   "mimetype": "text/x-python",
   "name": "python",
   "nbconvert_exporter": "python",
   "pygments_lexer": "ipython3",
   "version": "3.8.3"
  },
  "widgets": {
   "application/vnd.jupyter.widget-state+json": {
    "0ca0f0ec27684efeb42cc13f741005ac": {
     "model_module": "@jupyter-widgets/base",
     "model_name": "LayoutModel",
     "state": {
      "_model_module": "@jupyter-widgets/base",
      "_model_module_version": "1.2.0",
      "_model_name": "LayoutModel",
      "_view_count": null,
      "_view_module": "@jupyter-widgets/base",
      "_view_module_version": "1.2.0",
      "_view_name": "LayoutView",
      "align_content": null,
      "align_items": null,
      "align_self": null,
      "border": null,
      "bottom": null,
      "display": null,
      "flex": null,
      "flex_flow": null,
      "grid_area": null,
      "grid_auto_columns": null,
      "grid_auto_flow": null,
      "grid_auto_rows": null,
      "grid_column": null,
      "grid_gap": null,
      "grid_row": null,
      "grid_template_areas": null,
      "grid_template_columns": null,
      "grid_template_rows": null,
      "height": null,
      "justify_content": null,
      "justify_items": null,
      "left": null,
      "margin": null,
      "max_height": null,
      "max_width": null,
      "min_height": null,
      "min_width": null,
      "object_fit": null,
      "object_position": null,
      "order": null,
      "overflow": null,
      "overflow_x": null,
      "overflow_y": null,
      "padding": null,
      "right": null,
      "top": null,
      "visibility": null,
      "width": null
     }
    },
    "0fbc0ea075604c4a87789c9f9f4020ba": {
     "model_module": "@jupyter-widgets/base",
     "model_name": "LayoutModel",
     "state": {
      "_model_module": "@jupyter-widgets/base",
      "_model_module_version": "1.2.0",
      "_model_name": "LayoutModel",
      "_view_count": null,
      "_view_module": "@jupyter-widgets/base",
      "_view_module_version": "1.2.0",
      "_view_name": "LayoutView",
      "align_content": null,
      "align_items": null,
      "align_self": null,
      "border": null,
      "bottom": null,
      "display": null,
      "flex": null,
      "flex_flow": null,
      "grid_area": null,
      "grid_auto_columns": null,
      "grid_auto_flow": null,
      "grid_auto_rows": null,
      "grid_column": null,
      "grid_gap": null,
      "grid_row": null,
      "grid_template_areas": null,
      "grid_template_columns": null,
      "grid_template_rows": null,
      "height": null,
      "justify_content": null,
      "justify_items": null,
      "left": null,
      "margin": null,
      "max_height": null,
      "max_width": null,
      "min_height": null,
      "min_width": null,
      "object_fit": null,
      "object_position": null,
      "order": null,
      "overflow": null,
      "overflow_x": null,
      "overflow_y": null,
      "padding": null,
      "right": null,
      "top": null,
      "visibility": null,
      "width": null
     }
    },
    "220e3b7c22764814ac3bd9b8796d6c9f": {
     "model_module": "@jupyter-widgets/controls",
     "model_name": "HTMLModel",
     "state": {
      "_dom_classes": [],
      "_model_module": "@jupyter-widgets/controls",
      "_model_module_version": "1.5.0",
      "_model_name": "HTMLModel",
      "_view_count": null,
      "_view_module": "@jupyter-widgets/controls",
      "_view_module_version": "1.5.0",
      "_view_name": "HTMLView",
      "description": "",
      "description_tooltip": null,
      "layout": "IPY_MODEL_0ca0f0ec27684efeb42cc13f741005ac",
      "placeholder": "​",
      "style": "IPY_MODEL_7221d5114ab74a99964b168c8f71924c",
      "value": " 305M/305M [00:28&lt;00:00, 10.9MB/s]"
     }
    },
    "2b8882a76d46477fb1f7f13e4a241824": {
     "model_module": "@jupyter-widgets/base",
     "model_name": "LayoutModel",
     "state": {
      "_model_module": "@jupyter-widgets/base",
      "_model_module_version": "1.2.0",
      "_model_name": "LayoutModel",
      "_view_count": null,
      "_view_module": "@jupyter-widgets/base",
      "_view_module_version": "1.2.0",
      "_view_name": "LayoutView",
      "align_content": null,
      "align_items": null,
      "align_self": null,
      "border": null,
      "bottom": null,
      "display": null,
      "flex": null,
      "flex_flow": null,
      "grid_area": null,
      "grid_auto_columns": null,
      "grid_auto_flow": null,
      "grid_auto_rows": null,
      "grid_column": null,
      "grid_gap": null,
      "grid_row": null,
      "grid_template_areas": null,
      "grid_template_columns": null,
      "grid_template_rows": null,
      "height": null,
      "justify_content": null,
      "justify_items": null,
      "left": null,
      "margin": null,
      "max_height": null,
      "max_width": null,
      "min_height": null,
      "min_width": null,
      "object_fit": null,
      "object_position": null,
      "order": null,
      "overflow": null,
      "overflow_x": null,
      "overflow_y": null,
      "padding": null,
      "right": null,
      "top": null,
      "visibility": null,
      "width": null
     }
    },
    "2d463f823fba4280852c9e318ca1c010": {
     "model_module": "@jupyter-widgets/controls",
     "model_name": "DescriptionStyleModel",
     "state": {
      "_model_module": "@jupyter-widgets/controls",
      "_model_module_version": "1.5.0",
      "_model_name": "DescriptionStyleModel",
      "_view_count": null,
      "_view_module": "@jupyter-widgets/base",
      "_view_module_version": "1.2.0",
      "_view_name": "StyleView",
      "description_width": ""
     }
    },
    "31612f1c66904100afcc9288a01cb849": {
     "model_module": "@jupyter-widgets/controls",
     "model_name": "HBoxModel",
     "state": {
      "_dom_classes": [],
      "_model_module": "@jupyter-widgets/controls",
      "_model_module_version": "1.5.0",
      "_model_name": "HBoxModel",
      "_view_count": null,
      "_view_module": "@jupyter-widgets/controls",
      "_view_module_version": "1.5.0",
      "_view_name": "HBoxView",
      "box_style": "",
      "children": [
       "IPY_MODEL_9a74e2835e7848ffa1d3e53f0d93da78",
       "IPY_MODEL_220e3b7c22764814ac3bd9b8796d6c9f"
      ],
      "layout": "IPY_MODEL_0fbc0ea075604c4a87789c9f9f4020ba"
     }
    },
    "46fa45d8ee844d9396a74ebd58ece5bd": {
     "model_module": "@jupyter-widgets/base",
     "model_name": "LayoutModel",
     "state": {
      "_model_module": "@jupyter-widgets/base",
      "_model_module_version": "1.2.0",
      "_model_name": "LayoutModel",
      "_view_count": null,
      "_view_module": "@jupyter-widgets/base",
      "_view_module_version": "1.2.0",
      "_view_name": "LayoutView",
      "align_content": null,
      "align_items": null,
      "align_self": null,
      "border": null,
      "bottom": null,
      "display": null,
      "flex": null,
      "flex_flow": null,
      "grid_area": null,
      "grid_auto_columns": null,
      "grid_auto_flow": null,
      "grid_auto_rows": null,
      "grid_column": null,
      "grid_gap": null,
      "grid_row": null,
      "grid_template_areas": null,
      "grid_template_columns": null,
      "grid_template_rows": null,
      "height": null,
      "justify_content": null,
      "justify_items": null,
      "left": null,
      "margin": null,
      "max_height": null,
      "max_width": null,
      "min_height": null,
      "min_width": null,
      "object_fit": null,
      "object_position": null,
      "order": null,
      "overflow": null,
      "overflow_x": null,
      "overflow_y": null,
      "padding": null,
      "right": null,
      "top": null,
      "visibility": null,
      "width": null
     }
    },
    "5204b3b40e8743a2b49580e4c63d3a5b": {
     "model_module": "@jupyter-widgets/controls",
     "model_name": "ProgressStyleModel",
     "state": {
      "_model_module": "@jupyter-widgets/controls",
      "_model_module_version": "1.5.0",
      "_model_name": "ProgressStyleModel",
      "_view_count": null,
      "_view_module": "@jupyter-widgets/base",
      "_view_module_version": "1.2.0",
      "_view_name": "StyleView",
      "bar_color": null,
      "description_width": "initial"
     }
    },
    "7221d5114ab74a99964b168c8f71924c": {
     "model_module": "@jupyter-widgets/controls",
     "model_name": "DescriptionStyleModel",
     "state": {
      "_model_module": "@jupyter-widgets/controls",
      "_model_module_version": "1.5.0",
      "_model_name": "DescriptionStyleModel",
      "_view_count": null,
      "_view_module": "@jupyter-widgets/base",
      "_view_module_version": "1.2.0",
      "_view_name": "StyleView",
      "description_width": ""
     }
    },
    "79198e78a1dc40fbbeaa842cf5ff9f5b": {
     "model_module": "@jupyter-widgets/base",
     "model_name": "LayoutModel",
     "state": {
      "_model_module": "@jupyter-widgets/base",
      "_model_module_version": "1.2.0",
      "_model_name": "LayoutModel",
      "_view_count": null,
      "_view_module": "@jupyter-widgets/base",
      "_view_module_version": "1.2.0",
      "_view_name": "LayoutView",
      "align_content": null,
      "align_items": null,
      "align_self": null,
      "border": null,
      "bottom": null,
      "display": null,
      "flex": null,
      "flex_flow": null,
      "grid_area": null,
      "grid_auto_columns": null,
      "grid_auto_flow": null,
      "grid_auto_rows": null,
      "grid_column": null,
      "grid_gap": null,
      "grid_row": null,
      "grid_template_areas": null,
      "grid_template_columns": null,
      "grid_template_rows": null,
      "height": null,
      "justify_content": null,
      "justify_items": null,
      "left": null,
      "margin": null,
      "max_height": null,
      "max_width": null,
      "min_height": null,
      "min_width": null,
      "object_fit": null,
      "object_position": null,
      "order": null,
      "overflow": null,
      "overflow_x": null,
      "overflow_y": null,
      "padding": null,
      "right": null,
      "top": null,
      "visibility": null,
      "width": null
     }
    },
    "901037959ad445fdad36c0e5eb985991": {
     "model_module": "@jupyter-widgets/controls",
     "model_name": "HTMLModel",
     "state": {
      "_dom_classes": [],
      "_model_module": "@jupyter-widgets/controls",
      "_model_module_version": "1.5.0",
      "_model_name": "HTMLModel",
      "_view_count": null,
      "_view_module": "@jupyter-widgets/controls",
      "_view_module_version": "1.5.0",
      "_view_name": "HTMLView",
      "description": "",
      "description_tooltip": null,
      "layout": "IPY_MODEL_2b8882a76d46477fb1f7f13e4a241824",
      "placeholder": "​",
      "style": "IPY_MODEL_2d463f823fba4280852c9e318ca1c010",
      "value": " 305M/305M [00:17&lt;00:00, 17.1MB/s]"
     }
    },
    "98127b0842ec4591a3200dd430d24214": {
     "model_module": "@jupyter-widgets/controls",
     "model_name": "ProgressStyleModel",
     "state": {
      "_model_module": "@jupyter-widgets/controls",
      "_model_module_version": "1.5.0",
      "_model_name": "ProgressStyleModel",
      "_view_count": null,
      "_view_module": "@jupyter-widgets/base",
      "_view_module_version": "1.2.0",
      "_view_name": "StyleView",
      "bar_color": null,
      "description_width": "initial"
     }
    },
    "9a74e2835e7848ffa1d3e53f0d93da78": {
     "model_module": "@jupyter-widgets/controls",
     "model_name": "FloatProgressModel",
     "state": {
      "_dom_classes": [],
      "_model_module": "@jupyter-widgets/controls",
      "_model_module_version": "1.5.0",
      "_model_name": "FloatProgressModel",
      "_view_count": null,
      "_view_module": "@jupyter-widgets/controls",
      "_view_module_version": "1.5.0",
      "_view_name": "ProgressView",
      "bar_style": "success",
      "description": "100%",
      "description_tooltip": null,
      "layout": "IPY_MODEL_46fa45d8ee844d9396a74ebd58ece5bd",
      "max": 305249852,
      "min": 0,
      "orientation": "horizontal",
      "style": "IPY_MODEL_98127b0842ec4591a3200dd430d24214",
      "value": 305249852
     }
    },
    "c78236e970f44871b856016f33436a18": {
     "model_module": "@jupyter-widgets/controls",
     "model_name": "HBoxModel",
     "state": {
      "_dom_classes": [],
      "_model_module": "@jupyter-widgets/controls",
      "_model_module_version": "1.5.0",
      "_model_name": "HBoxModel",
      "_view_count": null,
      "_view_module": "@jupyter-widgets/controls",
      "_view_module_version": "1.5.0",
      "_view_name": "HBoxView",
      "box_style": "",
      "children": [
       "IPY_MODEL_d95fdd1ae5604b2e98edb572328db849",
       "IPY_MODEL_901037959ad445fdad36c0e5eb985991"
      ],
      "layout": "IPY_MODEL_eae51b4740414165a32d3fa615efdc6d"
     }
    },
    "d95fdd1ae5604b2e98edb572328db849": {
     "model_module": "@jupyter-widgets/controls",
     "model_name": "FloatProgressModel",
     "state": {
      "_dom_classes": [],
      "_model_module": "@jupyter-widgets/controls",
      "_model_module_version": "1.5.0",
      "_model_name": "FloatProgressModel",
      "_view_count": null,
      "_view_module": "@jupyter-widgets/controls",
      "_view_module_version": "1.5.0",
      "_view_name": "ProgressView",
      "bar_style": "success",
      "description": "100%",
      "description_tooltip": null,
      "layout": "IPY_MODEL_79198e78a1dc40fbbeaa842cf5ff9f5b",
      "max": 305249852,
      "min": 0,
      "orientation": "horizontal",
      "style": "IPY_MODEL_5204b3b40e8743a2b49580e4c63d3a5b",
      "value": 305249852
     }
    },
    "eae51b4740414165a32d3fa615efdc6d": {
     "model_module": "@jupyter-widgets/base",
     "model_name": "LayoutModel",
     "state": {
      "_model_module": "@jupyter-widgets/base",
      "_model_module_version": "1.2.0",
      "_model_name": "LayoutModel",
      "_view_count": null,
      "_view_module": "@jupyter-widgets/base",
      "_view_module_version": "1.2.0",
      "_view_name": "LayoutView",
      "align_content": null,
      "align_items": null,
      "align_self": null,
      "border": null,
      "bottom": null,
      "display": null,
      "flex": null,
      "flex_flow": null,
      "grid_area": null,
      "grid_auto_columns": null,
      "grid_auto_flow": null,
      "grid_auto_rows": null,
      "grid_column": null,
      "grid_gap": null,
      "grid_row": null,
      "grid_template_areas": null,
      "grid_template_columns": null,
      "grid_template_rows": null,
      "height": null,
      "justify_content": null,
      "justify_items": null,
      "left": null,
      "margin": null,
      "max_height": null,
      "max_width": null,
      "min_height": null,
      "min_width": null,
      "object_fit": null,
      "object_position": null,
      "order": null,
      "overflow": null,
      "overflow_x": null,
      "overflow_y": null,
      "padding": null,
      "right": null,
      "top": null,
      "visibility": null,
      "width": null
     }
    }
   }
  }
 },
 "nbformat": 4,
 "nbformat_minor": 1
}
